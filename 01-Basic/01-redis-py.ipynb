{
 "cells": [
  {
   "cell_type": "markdown",
   "source": [
    "# 使用 redis-py 连接到 Redis\n",
    "\n",
    "## 简介\n",
    "\n",
    "Redis 官方有一个 [列表](https://redis.io/docs/clients/), 列出了各个编程语言的 Redis 客户端程序. 其中 [Python 社区的列表在这里](https://redis.io/docs/clients/#python).\n",
    "\n",
    "这里面最稳定, 最优秀的两个是:\n",
    "\n",
    "- [redis-py](https://github.com/redis/redis-py): 由 redis 官方维护的 Python 客户端, 和 Redis 原生 Command 一一对应, 没有 API 的学习成本.\n",
    "- [walrus](https://github.com/coleifer/walrus): 基于 ``redis-py``, 实现了一套基于 redis 的 Python 数据结构. 例如 list, set, dict 等等. 更加 Pythonic, 并且由于是基于官方客户端, 功能也比较稳定."
   ],
   "metadata": {
    "collapsed": false
   }
  },
  {
   "cell_type": "code",
   "execution_count": 1,
   "outputs": [
    {
     "name": "stdout",
     "output_type": "stream",
     "text": [
      "\u001B[33mWARNING: You are using pip version 21.1.1; however, version 22.0.4 is available.\r\n",
      "You should consider upgrading via the '/Users/sanhehu/.pyenv/versions/3.8.11/bin/python3.8 -m pip install --upgrade pip' command.\u001B[0m\r\n",
      "\u001B[33mWARNING: You are using pip version 21.1.1; however, version 22.0.4 is available.\r\n",
      "You should consider upgrading via the '/Users/sanhehu/.pyenv/versions/3.8.11/bin/python3.8 -m pip install --upgrade pip' command.\u001B[0m\r\n"
     ]
    }
   ],
   "source": [
    "# 安装依赖, 你 jupyter notebook 安装到了哪个 Python\n",
    "# 依赖就会被安装到哪个 Python 里\n",
    "!pip install -q redis\n",
    "!pip install -q walrus"
   ],
   "metadata": {
    "collapsed": false,
    "pycharm": {
     "name": "#%%\n"
    }
   }
  },
  {
   "cell_type": "code",
   "execution_count": 2,
   "outputs": [
    {
     "name": "stdout",
     "output_type": "stream",
     "text": [
      "sys.version_info(major=3, minor=8, micro=11, releaselevel='final', serial=0)\n",
      "/Users/sanhehu/.pyenv/versions/3.8.11/bin/python3.8\n"
     ]
    }
   ],
   "source": [
    "# 验证你所处的 Python 环境\n",
    "import sys\n",
    "\n",
    "print(sys.version_info)\n",
    "print(sys.executable)"
   ],
   "metadata": {
    "collapsed": false,
    "pycharm": {
     "name": "#%%\n"
    }
   }
  },
  {
   "cell_type": "code",
   "execution_count": 3,
   "outputs": [],
   "source": [
    "# 连接到 AWS ElasticCache Redis Cluster\n",
    "import redis\n",
    "import walrus\n",
    "\n",
    "endpoint = \"sanhe-dev.hozbo8.ng.0001.use1.cache.amazonaws.com\"\n",
    "\n",
    "r = redis.Redis(host=endpoint, port=6379, db=0)\n",
    "db = walrus.Walrus(host=endpoint, port=6379, db=0)"
   ],
   "metadata": {
    "collapsed": false,
    "pycharm": {
     "name": "#%%\n"
    }
   }
  },
  {
   "cell_type": "markdown",
   "source": [
    "## redis-py API"
   ],
   "metadata": {
    "collapsed": false
   }
  },
  {
   "cell_type": "code",
   "execution_count": 4,
   "outputs": [
    {
     "data": {
      "text/plain": "True"
     },
     "execution_count": 4,
     "metadata": {},
     "output_type": "execute_result"
    }
   ],
   "source": [
    "# a username password example\n",
    "KEY = \"alice@example.com\"\n",
    "\n",
    "# 成功设置则返回 True\n",
    "r.set(KEY, \"1234\")"
   ],
   "metadata": {
    "collapsed": false,
    "pycharm": {
     "name": "#%%\n"
    }
   }
  },
  {
   "cell_type": "code",
   "execution_count": 5,
   "outputs": [
    {
     "data": {
      "text/plain": "b'1234'"
     },
     "execution_count": 5,
     "metadata": {},
     "output_type": "execute_result"
    }
   ],
   "source": [
    "# 如果 key 存在则返回 value\n",
    "r.get(KEY)"
   ],
   "metadata": {
    "collapsed": false,
    "pycharm": {
     "name": "#%%\n"
    }
   }
  },
  {
   "cell_type": "code",
   "execution_count": 6,
   "outputs": [
    {
     "data": {
      "text/plain": "True"
     },
     "execution_count": 6,
     "metadata": {},
     "output_type": "execute_result"
    }
   ],
   "source": [
    "# 如果 key 不存在则会返回 None\n",
    "r.get(\"Not a valid Key\") is None"
   ],
   "metadata": {
    "collapsed": false,
    "pycharm": {
     "name": "#%%\n"
    }
   }
  },
  {
   "cell_type": "code",
   "execution_count": 6,
   "outputs": [],
   "source": [],
   "metadata": {
    "collapsed": false,
    "pycharm": {
     "name": "#%%\n"
    }
   }
  }
 ],
 "metadata": {
  "kernelspec": {
   "display_name": "Python 3 (ipykernel)",
   "language": "python",
   "name": "python3"
  },
  "language_info": {
   "codemirror_mode": {
    "name": "ipython",
    "version": 3
   },
   "file_extension": ".py",
   "mimetype": "text/x-python",
   "name": "python",
   "nbconvert_exporter": "python",
   "pygments_lexer": "ipython3",
   "version": "3.8.11"
  }
 },
 "nbformat": 4,
 "nbformat_minor": 5
}